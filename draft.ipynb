{
 "cells": [
  {
   "cell_type": "markdown",
   "metadata": {},
   "source": [
    "***About This Document***\n",
    "\n",
    "This is the assessment for UCL CASA module CASA0006: Data Science for Spatial Systems.\n",
    "\n",
    "**Code** is hosted at URL\n",
    "\n",
    "**Data** is available at URL (Data source: )"
   ]
  },
  {
   "cell_type": "markdown",
   "metadata": {},
   "source": [
    "<hr style=\"border: 1px solid grey;\"/>"
   ]
  },
  {
   "cell_type": "markdown",
   "metadata": {
    "tags": []
   },
   "source": [
    "<div style=\"float:left\">\n",
    "    <h1 style=\"width:600px\">TITLE</h1>\n",
    "    <h3 style=\"font-style: italic; color: gray;\">Subtitle/ Research Question</h3>\n",
    "    <p style=\"font-style: italic; color: gray;\">This paper explores xxxxxxx.</p>\n",
    "    <p style=\"color: gray;\">Word count:2000</p>\n",
    "</div>"
   ]
  },
  {
   "cell_type": "markdown",
   "metadata": {},
   "source": [
    "- [1. Introduction](#part-1)\n",
    "- [2. Literature Review](#part-2)\n",
    "- [3. Methodology](#part-3)\n",
    "- [4. Data Presentation](#part-4)\n",
    "- [5. Processing and Analysis](#part-5)\n",
    "- [6. Results and Discussion](#part-6)\n",
    "- [7. Conclusion](#part-7)\n",
    "- [References](#part-8)"
   ]
  },
  {
   "cell_type": "markdown",
   "metadata": {},
   "source": [
    "<hr style=\"border: 1px solid grey;\"/>"
   ]
  },
  {
   "cell_type": "markdown",
   "metadata": {
    "tags": []
   },
   "source": [
    "<a name=\"part-1\"></a>\n",
    "## 1. Introduction"
   ]
  },
  {
   "cell_type": "markdown",
   "metadata": {},
   "source": [
    "Background"
   ]
  },
  {
   "cell_type": "markdown",
   "metadata": {},
   "source": [
    "data source, Explanation of terms (IMD, how to calculate, SMR what it is ,etc.)"
   ]
  },
  {
   "cell_type": "markdown",
   "metadata": {},
   "source": [
    "Import libraries"
   ]
  },
  {
   "cell_type": "code",
   "execution_count": 2,
   "metadata": {},
   "outputs": [],
   "source": [
    "#import"
   ]
  },
  {
   "cell_type": "markdown",
   "metadata": {
    "tags": []
   },
   "source": [
    "<a name=\"part-2\"></a>\n",
    "## 2. Litrature Review"
   ]
  },
  {
   "cell_type": "markdown",
   "metadata": {},
   "source": [
    "LR"
   ]
  },
  {
   "cell_type": "markdown",
   "metadata": {},
   "source": [
    "Therefore, **Research Questions**:"
   ]
  },
  {
   "cell_type": "markdown",
   "metadata": {
    "tags": []
   },
   "source": [
    "<a name=\"part-3\"></a>\n",
    "## 3. Methodology"
   ]
  },
  {
   "cell_type": "markdown",
   "metadata": {},
   "source": [
    "Method choices:\n",
    "\n",
    "Supervised:\n",
    "\n",
    "Unsupervised: k-means, dbscan, hierachy clustering, etc."
   ]
  },
  {
   "cell_type": "markdown",
   "metadata": {
    "tags": []
   },
   "source": [
    "[1. Introduction](#part-1)｜[2. Literature Review](#part-2)｜[3. Method](#part-3)｜[4. Data Presentation](#part-4)｜[5. Data Processing and Analysis](#part-5)｜[6. Results and Discussion](#part-6)｜[7. Conclusion](#part-7)｜[References](#part-8)"
   ]
  },
  {
   "cell_type": "markdown",
   "metadata": {
    "tags": []
   },
   "source": [
    "<a name=\"part-4\"></a>\n",
    "## 4. Data Presentation"
   ]
  },
  {
   "cell_type": "markdown",
   "metadata": {},
   "source": [
    "read data"
   ]
  },
  {
   "cell_type": "markdown",
   "metadata": {},
   "source": [
    "shape, columns (descriptions), data types,proportion, data.describe()"
   ]
  },
  {
   "cell_type": "markdown",
   "metadata": {},
   "source": [
    "Figure 1 | xxxx"
   ]
  },
  {
   "cell_type": "markdown",
   "metadata": {
    "tags": []
   },
   "source": [
    "<a name=\"part-5\"></a> \n",
    "## 5. Data Processing and Analysis"
   ]
  },
  {
   "cell_type": "markdown",
   "metadata": {},
   "source": [
    "data preparation,  histograms"
   ]
  },
  {
   "cell_type": "markdown",
   "metadata": {},
   "source": [
    "analysis"
   ]
  },
  {
   "cell_type": "markdown",
   "metadata": {
    "tags": []
   },
   "source": [
    "[1. Introduction](#part-1)｜[2. Literature Review](#part-2)｜[3. Method](#part-3)｜[4. Data Presentation](#part-4)｜[5. Data Processing and Analysis](#part-5)｜[6. Results and Discussion](#part-6)｜[7. Conclusion](#part-7)｜[References](#part-8)"
   ]
  },
  {
   "cell_type": "markdown",
   "metadata": {},
   "source": [
    "<a name=\"part-6\"></a>\n",
    "## 6. Results and Discussion"
   ]
  },
  {
   "cell_type": "markdown",
   "metadata": {},
   "source": [
    "RESULTS"
   ]
  },
  {
   "cell_type": "markdown",
   "metadata": {},
   "source": [
    "Rephrase questions: RQ1, RQ2, RQ3\n",
    "\n",
    "    RQ1:\n",
    "    Ans1\n",
    "\n",
    "    RQ2:\n",
    "    Ans2:\n",
    "\n",
    "..."
   ]
  },
  {
   "cell_type": "markdown",
   "metadata": {},
   "source": [
    "Limitations"
   ]
  },
  {
   "cell_type": "markdown",
   "metadata": {},
   "source": [
    "<a name=\"part-7\"></a>\n",
    "## 7. Conclusion"
   ]
  },
  {
   "cell_type": "markdown",
   "metadata": {},
   "source": [
    "conclusion:\n",
    "this paper has carried clustering of xxxxx in London, it examined xxxx."
   ]
  },
  {
   "cell_type": "markdown",
   "metadata": {
    "tags": []
   },
   "source": [
    "[1. Introduction](#part-1)｜[2. Literature Review](#part-2)｜[3. Method](#part-3)｜[4. Data Presentation](#part-4)｜[5. Data Processing and Analysis](#part-5)｜[6. Results and Discussion](#part-6)｜[7. Conclusion](#part-7)｜[References](#part-8)"
   ]
  },
  {
   "cell_type": "markdown",
   "metadata": {},
   "source": [
    "<hr style=\"border: 1px solid grey;\"/>"
   ]
  },
  {
   "cell_type": "markdown",
   "metadata": {
    "jp-MarkdownHeadingCollapsed": true,
    "tags": []
   },
   "source": [
    "<a name=\"part-8\"></a>\n",
    "## References"
   ]
  }
 ],
 "metadata": {
  "kernelspec": {
   "display_name": "Python 3 (ipykernel)",
   "language": "python",
   "name": "python3"
  },
  "language_info": {
   "codemirror_mode": {
    "name": "ipython",
    "version": 3
   },
   "file_extension": ".py",
   "mimetype": "text/x-python",
   "name": "python",
   "nbconvert_exporter": "python",
   "pygments_lexer": "ipython3",
   "version": "3.10.5"
  },
  "toc-autonumbering": false,
  "toc-showcode": false
 },
 "nbformat": 4,
 "nbformat_minor": 4
}
